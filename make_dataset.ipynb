{
 "cells": [
  {
   "cell_type": "code",
   "execution_count": 2,
   "metadata": {},
   "outputs": [
    {
     "name": "stdout",
     "output_type": "stream",
     "text": [
      "파일이 ./data/SROIE에 성공적으로 압축 해제되었습니다.\n"
     ]
    }
   ],
   "source": [
    "import zipfile\n",
    "import os\n",
    "\n",
    "def unzip_file(zip_path, extract_to='./data'):\n",
    "    # zip_path: 압축 파일의 경로\n",
    "    # extract_to: 압축을 풀 위치 (기본값은 현재 디렉토리)\n",
    "    \n",
    "    # zipfile.ZipFile 객체 생성\n",
    "    with zipfile.ZipFile(zip_path, 'r') as zip_ref:\n",
    "        # 압축 해제\n",
    "        zip_ref.extractall(extract_to)\n",
    "        print(f'파일이 {extract_to}에 성공적으로 압축 해제되었습니다.')\n",
    "\n",
    "# 예시 사용법\n",
    "unzip_file('/data/ephemeral/home/code/data/archive.zip', './data/SROIE')\n"
   ]
  },
  {
   "cell_type": "code",
   "execution_count": 3,
   "metadata": {},
   "outputs": [
    {
     "name": "stdout",
     "output_type": "stream",
     "text": [
      "파일이 ./data/cordv2에 성공적으로 압축 해제되었습니다.\n"
     ]
    }
   ],
   "source": [
    "unzip_file('/data/ephemeral/home/code/data/custom_receipt_rename.zip', './data/cordv2')"
   ]
  }
 ],
 "metadata": {
  "kernelspec": {
   "display_name": "base",
   "language": "python",
   "name": "python3"
  },
  "language_info": {
   "codemirror_mode": {
    "name": "ipython",
    "version": 3
   },
   "file_extension": ".py",
   "mimetype": "text/x-python",
   "name": "python",
   "nbconvert_exporter": "python",
   "pygments_lexer": "ipython3",
   "version": "3.10.13"
  }
 },
 "nbformat": 4,
 "nbformat_minor": 2
}
